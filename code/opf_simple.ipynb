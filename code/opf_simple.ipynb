{
 "cells": [
  {
   "cell_type": "code",
   "execution_count": 1,
   "metadata": {},
   "outputs": [
    {
     "name": "stderr",
     "output_type": "stream",
     "text": [
      "Using TensorFlow backend.\n"
     ]
    }
   ],
   "source": [
    "import numpy as np \n",
    "import tensorflow as tf\n",
    "from sklearn.model_selection import train_test_split\n",
    "from keras.models import Sequential\n",
    "from keras.layers import Dense\n",
    "from sklearn.model_selection import KFold\n",
    "from keras import losses\n",
    "from keras import metrics\n",
    "from keras import optimizers\n",
    "from sklearn.pipeline import Pipeline\n",
    "from keras.wrappers.scikit_learn import KerasRegressor\n",
    "from sklearn.model_selection import cross_val_score\n",
    "from data_utils import *\n",
    "from pypower.api import case9, ppoption, runpf, printpf\n",
    "import matplotlib.pyplot as plt\n",
    "import copy\n",
    "%load_ext autoreload\n",
    "%autoreload 2"
   ]
  },
  {
   "cell_type": "code",
   "execution_count": 2,
   "metadata": {},
   "outputs": [
    {
     "name": "stdout",
     "output_type": "stream",
     "text": [
      "X_train: (8000, 18)\n",
      "y_train: (8000, 6)\n",
      "X_test: (4464, 18)\n",
      "y_test: (4464, 6)\n"
     ]
    }
   ],
   "source": [
    "X = []\n",
    "y = []\n",
    "grids = []\n",
    "for i in range(1, 10001):\n",
    "    g = Grid(\"../data/result_%d.mat\" % i)\n",
    "    grids.append(g)\n",
    "    # Input parameters\n",
    "    pd = g.get_pd() #/ g.baseMVA \n",
    "    qd = g.get_qd() #/ g.baseMVA \n",
    "    X.append(np.append(pd, qd))\n",
    "    # Output parameters\n",
    "    pg = g.get_pg()\n",
    "    v  = g.get_pv_voltage()\n",
    "    y.append(np.append(pg,v))\n",
    "grids = np.array(grids)\n",
    "X = np.array(X)\n",
    "y = np.array(y)\n",
    "train_indices = np.random.choice(range(10000), 8000)\n",
    "test_indices = [i for i in range(10000) if not i in train_indices]\n",
    "Xtr, ytr = X[train_indices, :], y[train_indices,:]\n",
    "Xts, yts = X[test_indices, :], y[test_indices,:]\n",
    "print(\"X_train:\", Xtr.shape)\n",
    "print(\"y_train:\", ytr.shape)\n",
    "print(\"X_test:\", Xts.shape)\n",
    "print(\"y_test:\", yts.shape)"
   ]
  },
  {
   "cell_type": "code",
   "execution_count": 3,
   "metadata": {},
   "outputs": [],
   "source": [
    "model = Sequential()\n",
    "model.add(Dense(units=50, input_dim=18))\n",
    "model.add(Dense(units=6, input_dim=50))\n",
    "model.compile(loss='mean_squared_error',\n",
    "              optimizer=optimizers.Adam(lr=0.01),\n",
    "              metrics=[metrics.mean_squared_error])"
   ]
  },
  {
   "cell_type": "code",
   "execution_count": 4,
   "metadata": {},
   "outputs": [
    {
     "name": "stdout",
     "output_type": "stream",
     "text": [
      "Train on 8000 samples, validate on 4464 samples\n",
      "Epoch 1/30\n",
      " - 0s - loss: 320.8621 - mean_squared_error: 320.8621 - val_loss: 2.6582 - val_mean_squared_error: 2.6582\n",
      "Epoch 2/30\n",
      " - 0s - loss: 2.2470 - mean_squared_error: 2.2470 - val_loss: 2.0907 - val_mean_squared_error: 2.0907\n",
      "Epoch 3/30\n",
      " - 0s - loss: 2.0637 - mean_squared_error: 2.0637 - val_loss: 1.9911 - val_mean_squared_error: 1.9911\n",
      "Epoch 4/30\n",
      " - 0s - loss: 1.9661 - mean_squared_error: 1.9661 - val_loss: 1.8882 - val_mean_squared_error: 1.8882\n",
      "Epoch 5/30\n",
      " - 0s - loss: 1.8460 - mean_squared_error: 1.8460 - val_loss: 1.7719 - val_mean_squared_error: 1.7719\n",
      "Epoch 6/30\n",
      " - 0s - loss: 1.7699 - mean_squared_error: 1.7699 - val_loss: 1.5632 - val_mean_squared_error: 1.5632\n",
      "Epoch 7/30\n",
      " - 0s - loss: 1.5540 - mean_squared_error: 1.5540 - val_loss: 1.4019 - val_mean_squared_error: 1.4019\n",
      "Epoch 8/30\n",
      " - 0s - loss: 1.3756 - mean_squared_error: 1.3756 - val_loss: 1.4427 - val_mean_squared_error: 1.4427\n",
      "Epoch 9/30\n",
      " - 0s - loss: 1.2144 - mean_squared_error: 1.2144 - val_loss: 1.2397 - val_mean_squared_error: 1.2397\n",
      "Epoch 10/30\n",
      " - 0s - loss: 1.0635 - mean_squared_error: 1.0635 - val_loss: 1.0100 - val_mean_squared_error: 1.0100\n",
      "Epoch 11/30\n",
      " - 0s - loss: 0.9261 - mean_squared_error: 0.9261 - val_loss: 0.8641 - val_mean_squared_error: 0.8641\n",
      "Epoch 12/30\n",
      " - 0s - loss: 0.7952 - mean_squared_error: 0.7952 - val_loss: 0.6553 - val_mean_squared_error: 0.6553\n",
      "Epoch 13/30\n",
      " - 0s - loss: 0.6045 - mean_squared_error: 0.6045 - val_loss: 0.6595 - val_mean_squared_error: 0.6595\n",
      "Epoch 14/30\n",
      " - 0s - loss: 0.4835 - mean_squared_error: 0.4835 - val_loss: 0.4489 - val_mean_squared_error: 0.4489\n",
      "Epoch 15/30\n",
      " - 0s - loss: 0.3702 - mean_squared_error: 0.3702 - val_loss: 0.3303 - val_mean_squared_error: 0.3303\n",
      "Epoch 16/30\n",
      " - 0s - loss: 0.2749 - mean_squared_error: 0.2749 - val_loss: 0.2328 - val_mean_squared_error: 0.2328\n",
      "Epoch 17/30\n",
      " - 0s - loss: 0.2112 - mean_squared_error: 0.2112 - val_loss: 0.2237 - val_mean_squared_error: 0.2237\n",
      "Epoch 18/30\n",
      " - 0s - loss: 0.1643 - mean_squared_error: 0.1643 - val_loss: 0.1176 - val_mean_squared_error: 0.1176\n",
      "Epoch 19/30\n",
      " - 0s - loss: 0.1083 - mean_squared_error: 0.1083 - val_loss: 0.0888 - val_mean_squared_error: 0.0888\n",
      "Epoch 20/30\n",
      " - 0s - loss: 0.0723 - mean_squared_error: 0.0723 - val_loss: 0.0705 - val_mean_squared_error: 0.0705\n",
      "Epoch 21/30\n",
      " - 0s - loss: 0.0496 - mean_squared_error: 0.0496 - val_loss: 0.0362 - val_mean_squared_error: 0.0362\n",
      "Epoch 22/30\n",
      " - 0s - loss: 0.0546 - mean_squared_error: 0.0546 - val_loss: 0.4045 - val_mean_squared_error: 0.4045\n",
      "Epoch 23/30\n",
      " - 0s - loss: 0.1488 - mean_squared_error: 0.1488 - val_loss: 0.0384 - val_mean_squared_error: 0.0384\n",
      "Epoch 24/30\n",
      " - 0s - loss: 0.0460 - mean_squared_error: 0.0460 - val_loss: 0.0373 - val_mean_squared_error: 0.0373\n",
      "Epoch 25/30\n",
      " - 0s - loss: 0.0423 - mean_squared_error: 0.0423 - val_loss: 0.3098 - val_mean_squared_error: 0.3098\n",
      "Epoch 26/30\n",
      " - 0s - loss: 0.2275 - mean_squared_error: 0.2275 - val_loss: 0.0477 - val_mean_squared_error: 0.0477\n",
      "Epoch 27/30\n",
      " - 0s - loss: 0.0399 - mean_squared_error: 0.0399 - val_loss: 0.0289 - val_mean_squared_error: 0.0289\n",
      "Epoch 28/30\n",
      " - 0s - loss: 0.0481 - mean_squared_error: 0.0481 - val_loss: 0.0770 - val_mean_squared_error: 0.0770\n",
      "Epoch 29/30\n",
      " - 0s - loss: 0.0915 - mean_squared_error: 0.0915 - val_loss: 0.0781 - val_mean_squared_error: 0.0781\n",
      "Epoch 30/30\n",
      " - 0s - loss: 0.2343 - mean_squared_error: 0.2343 - val_loss: 0.0711 - val_mean_squared_error: 0.0711\n"
     ]
    }
   ],
   "source": [
    "model_hist = model.fit(Xtr, ytr, validation_data=(Xts,yts), epochs=30, batch_size=100, verbose=2)"
   ]
  },
  {
   "cell_type": "code",
   "execution_count": 5,
   "metadata": {},
   "outputs": [],
   "source": [
    "preds = model.predict(Xts)"
   ]
  },
  {
   "cell_type": "code",
   "execution_count": 23,
   "metadata": {},
   "outputs": [],
   "source": [
    "test_grids = copy.deepcopy(grids[test_indices])\n",
    "test_costs = [g.get_cost() for g in test_grids]\n",
    "pred_costs = []\n",
    "legal = []\n",
    "ppopt = ppoption(PF_ALG=2, VERBOSE=0, OUT_ALL = 0)\n",
    "for i, pred in enumerate(preds):\n",
    "    pred_pg = y[i, :3]\n",
    "    pred_vm = y[i, 3:]\n",
    "    test_grids[i].set_powers(pred_pg)\n",
    "    test_grids[i].set_voltage(pred_vm)\n",
    "    ppc = test_grids[i].to_dict()\n",
    "    results, succeed = runpf(ppc, ppopt)\n",
    "    test_grids[i].set_powers(results['gen'][:,PG])\n",
    "    legal.append(succeed)\n",
    "    pred_costs.append(test_grids[i].get_cost())"
   ]
  },
  {
   "cell_type": "code",
   "execution_count": 24,
   "metadata": {},
   "outputs": [
    {
     "name": "stdout",
     "output_type": "stream",
     "text": [
      "Success Rate: 1.0\n"
     ]
    }
   ],
   "source": [
    "print(\"Success Rate:\", np.mean(legal))\n",
    "cost_dist = np.array(pred_costs) / np.array(test_costs) - 1.0"
   ]
  },
  {
   "cell_type": "code",
   "execution_count": 92,
   "metadata": {},
   "outputs": [
    {
     "data": {
      "image/png": "[encoded data removed]",
      "text/plain": [
       "<matplotlib.figure.Figure at 0x1a30ef80b8>"
      ]
     },
     "metadata": {},
     "output_type": "display_data"
    }
   ],
   "source": [
    "fig, ax = plt.subplots()\n",
    "n, bins, patches = plt.hist(cost_dist, bins=200, normed = 1, cumulative=True, facecolor='g', histtype='step')\n",
    "plt.xlabel('% Excess Cost (cost of predicted network/cost of optimal)')\n",
    "plt.ylabel('Probability')\n",
    "#ax.minorticks_on()\n",
    "#ax.xaxis.grid(True, which='minor')\n",
    "plt.title('CDF of Excess Cost')\n",
    "plt.axis([0.0, 0.6, 0.0, 1])\n",
    "plt.grid(True)\n",
    "plt.show()"
   ]
  },
  {
   "cell_type": "code",
   "execution_count": 93,
   "metadata": {},
   "outputs": [
    {
     "name": "stdout",
     "output_type": "stream",
     "text": [
      "Mean: 0.178979\n",
      "Median: 0.072202\n",
      "Stdev: 0.324558\n",
      "Decile\tCost\n",
      "------\t----\n",
      "0\t|-0.000720\n",
      "5\t|0.001244\n",
      "10\t|0.003213\n",
      "15\t|0.006083\n",
      "20\t|0.010646\n",
      "25\t|0.016470\n",
      "30\t|0.023810\n",
      "35\t|0.033235\n",
      "40\t|0.044091\n",
      "45\t|0.057662\n",
      "50\t|0.072202\n",
      "55\t|0.089555\n",
      "60\t|0.109775\n",
      "65\t|0.137090\n",
      "70\t|0.168639\n",
      "75\t|0.202062\n",
      "80\t|0.254290\n",
      "85\t|0.326574\n",
      "90\t|0.450304\n",
      "95\t|0.707808\n"
     ]
    }
   ],
   "source": [
    "print(\"Mean: %f\" % np.mean(cost_dist))\n",
    "print(\"Median: %f\" % np.median(cost_dist))\n",
    "print(\"Stdev: %f\" % np.std(cost_dist))\n",
    "deciles = np.arange(0, 100, 5)\n",
    "decile_vals = np.percentile(cost_dist, deciles)\n",
    "print(\"Decile\\tCost\")\n",
    "print(\"------\\t----\")\n",
    "for i in range(20):\n",
    "    print(\"%d\\t|%f\" % (deciles[i], decile_vals[i]))"
   ]
  },
  {
   "cell_type": "code",
   "execution_count": null,
   "metadata": {},
   "outputs": [],
   "source": []
  }
 ],
 "metadata": {
  "kernelspec": {
   "display_name": "Python 3",
   "language": "python",
   "name": "python3"
  },
  "language_info": {
   "codemirror_mode": {
    "name": "ipython",
    "version": 3
   },
   "file_extension": ".py",
   "mimetype": "text/x-python",
   "name": "python",
   "nbconvert_exporter": "python",
   "pygments_lexer": "ipython3",
   "version": "3.6.4"
  }
 },
 "nbformat": 4,
 "nbformat_minor": 2
}
