{
 "cells": [
  {
   "cell_type": "code",
   "execution_count": 31,
   "metadata": {},
   "outputs": [],
   "source": [
    "import numpy as np \n",
    "import tensorflow as tf\n",
    "from sklearn.model_selection import train_test_split\n",
    "from keras.models import Sequential\n",
    "from keras.layers import Dense\n",
    "from sklearn.model_selection import KFold\n",
    "from keras import losses\n",
    "from keras import metrics\n",
    "from keras import optimizers\n",
    "from sklearn.pipeline import Pipeline\n",
    "from keras.wrappers.scikit_learn import KerasRegressor\n",
    "from sklearn.model_selection import cross_val_score"
   ]
  },
  {
   "cell_type": "code",
   "execution_count": 77,
   "metadata": {},
   "outputs": [
    {
     "name": "stdout",
     "output_type": "stream",
     "text": [
      "X_train: (8000, 18)\n",
      "y_train: (8000, 6)\n",
      "X_test: (2000, 18)\n",
      "y_test: (2000, 6)\n"
     ]
    }
   ],
   "source": [
    "# Load Data \n",
    "X = np.load(\"X.npy\")\n",
    "y = np.load(\"y.npy\")\n",
    "X_train, X_test, y_train, y_test = train_test_split(X, y, test_size=0.20, random_state=42)\n",
    "print(\"X_train:\", X_train.shape)\n",
    "print(\"y_train:\", y_train.shape)\n",
    "print(\"X_test:\", X_test.shape)\n",
    "print(\"y_test:\", y_test.shape)"
   ]
  },
  {
   "cell_type": "code",
   "execution_count": 37,
   "metadata": {},
   "outputs": [],
   "source": [
    "model = Sequential()\n",
    "model.add(Dense(units=50, input_dim=18))\n",
    "model.add(Dense(units=6, input_dim=50))\n",
    "model.compile(loss='mean_squared_error',\n",
    "              optimizer=optimizers.Adam(lr=0.01),\n",
    "              metrics=[metrics.mean_squared_error])"
   ]
  },
  {
   "cell_type": "code",
   "execution_count": 45,
   "metadata": {},
   "outputs": [
    {
     "name": "stdout",
     "output_type": "stream",
     "text": [
      "Train on 8000 samples, validate on 2000 samples\n",
      "Epoch 1/30\n",
      " - 0s - loss: 3.4743 - mean_squared_error: 3.4743 - val_loss: 2.5527 - val_mean_squared_error: 2.5527\n",
      "Epoch 2/30\n",
      " - 0s - loss: 3.3756 - mean_squared_error: 3.3756 - val_loss: 2.9872 - val_mean_squared_error: 2.9872\n",
      "Epoch 3/30\n",
      " - 0s - loss: 3.2521 - mean_squared_error: 3.2521 - val_loss: 3.3322 - val_mean_squared_error: 3.3322\n",
      "Epoch 4/30\n",
      " - 0s - loss: 4.1702 - mean_squared_error: 4.1702 - val_loss: 4.8919 - val_mean_squared_error: 4.8919\n",
      "Epoch 5/30\n",
      " - 0s - loss: 3.6960 - mean_squared_error: 3.6960 - val_loss: 3.1673 - val_mean_squared_error: 3.1673\n",
      "Epoch 6/30\n",
      " - 0s - loss: 3.3914 - mean_squared_error: 3.3914 - val_loss: 3.4014 - val_mean_squared_error: 3.4014\n",
      "Epoch 7/30\n",
      " - 0s - loss: 5.6486 - mean_squared_error: 5.6486 - val_loss: 3.5001 - val_mean_squared_error: 3.5001\n",
      "Epoch 8/30\n",
      " - 0s - loss: 3.6294 - mean_squared_error: 3.6294 - val_loss: 3.2423 - val_mean_squared_error: 3.2423\n",
      "Epoch 9/30\n",
      " - 0s - loss: 3.3520 - mean_squared_error: 3.3520 - val_loss: 3.8804 - val_mean_squared_error: 3.8804\n",
      "Epoch 10/30\n",
      " - 0s - loss: 3.2331 - mean_squared_error: 3.2331 - val_loss: 3.5050 - val_mean_squared_error: 3.5050\n",
      "Epoch 11/30\n",
      " - 0s - loss: 4.3060 - mean_squared_error: 4.3060 - val_loss: 4.6881 - val_mean_squared_error: 4.6881\n",
      "Epoch 12/30\n",
      " - 0s - loss: 3.4105 - mean_squared_error: 3.4105 - val_loss: 3.1440 - val_mean_squared_error: 3.1440\n",
      "Epoch 13/30\n",
      " - 0s - loss: 3.6334 - mean_squared_error: 3.6334 - val_loss: 3.1767 - val_mean_squared_error: 3.1767\n",
      "Epoch 14/30\n",
      " - 0s - loss: 3.6597 - mean_squared_error: 3.6597 - val_loss: 2.9471 - val_mean_squared_error: 2.9471\n",
      "Epoch 15/30\n",
      " - 0s - loss: 3.7311 - mean_squared_error: 3.7311 - val_loss: 4.5506 - val_mean_squared_error: 4.5506\n",
      "Epoch 16/30\n",
      " - 0s - loss: 3.1135 - mean_squared_error: 3.1135 - val_loss: 3.7709 - val_mean_squared_error: 3.7709\n",
      "Epoch 17/30\n",
      " - 0s - loss: 3.4468 - mean_squared_error: 3.4468 - val_loss: 4.3104 - val_mean_squared_error: 4.3104\n",
      "Epoch 18/30\n",
      " - 0s - loss: 3.2569 - mean_squared_error: 3.2569 - val_loss: 2.8427 - val_mean_squared_error: 2.8427\n",
      "Epoch 19/30\n",
      " - 0s - loss: 3.7937 - mean_squared_error: 3.7937 - val_loss: 3.7080 - val_mean_squared_error: 3.7080\n",
      "Epoch 20/30\n",
      " - 0s - loss: 3.4038 - mean_squared_error: 3.4038 - val_loss: 3.1865 - val_mean_squared_error: 3.1865\n",
      "Epoch 21/30\n",
      " - 0s - loss: 3.2405 - mean_squared_error: 3.2405 - val_loss: 2.8255 - val_mean_squared_error: 2.8255\n",
      "Epoch 22/30\n",
      " - 0s - loss: 3.2015 - mean_squared_error: 3.2015 - val_loss: 3.8683 - val_mean_squared_error: 3.8683\n",
      "Epoch 23/30\n",
      " - 0s - loss: 3.2633 - mean_squared_error: 3.2633 - val_loss: 2.8712 - val_mean_squared_error: 2.8712\n",
      "Epoch 24/30\n",
      " - 0s - loss: 3.3626 - mean_squared_error: 3.3626 - val_loss: 4.0375 - val_mean_squared_error: 4.0375\n",
      "Epoch 25/30\n",
      " - 0s - loss: 4.0820 - mean_squared_error: 4.0820 - val_loss: 4.1272 - val_mean_squared_error: 4.1272\n",
      "Epoch 26/30\n",
      " - 0s - loss: 3.2104 - mean_squared_error: 3.2104 - val_loss: 2.8523 - val_mean_squared_error: 2.8523\n",
      "Epoch 27/30\n",
      " - 0s - loss: 3.0953 - mean_squared_error: 3.0953 - val_loss: 2.9923 - val_mean_squared_error: 2.9923\n",
      "Epoch 28/30\n",
      " - 0s - loss: 3.0681 - mean_squared_error: 3.0681 - val_loss: 3.1474 - val_mean_squared_error: 3.1474\n",
      "Epoch 29/30\n",
      " - 0s - loss: 3.4330 - mean_squared_error: 3.4330 - val_loss: 2.8089 - val_mean_squared_error: 2.8089\n",
      "Epoch 30/30\n",
      " - 0s - loss: 3.1393 - mean_squared_error: 3.1393 - val_loss: 2.9404 - val_mean_squared_error: 2.9404\n"
     ]
    }
   ],
   "source": [
    "model_hist = model.fit(X_train, y_train,validation_data=(X_test,y_test), epochs=30, batch_size=100, verbose=2)"
   ]
  },
  {
   "cell_type": "code",
   "execution_count": 47,
   "metadata": {},
   "outputs": [],
   "source": [
    "preds = model.predict(X_test)"
   ]
  },
  {
   "cell_type": "code",
   "execution_count": 75,
   "metadata": {},
   "outputs": [],
   "source": [
    "pairs = zip(preds, y_test)\n",
    "results = []\n",
    "for y_pred, y_actual in pairs:\n",
    "    count = (y_actual*0.99 < y_pred) & (y_actual*1.01 > y_pred)\n",
    "    results.append(count)"
   ]
  },
  {
   "cell_type": "code",
   "execution_count": 76,
   "metadata": {},
   "outputs": [
    {
     "data": {
      "text/plain": [
       "array([1851, 1991, 1987,    6,    5,    2])"
      ]
     },
     "execution_count": 76,
     "metadata": {},
     "output_type": "execute_result"
    }
   ],
   "source": [
    "results = np.array(results)\n",
    "np.sum(results, axis=0)"
   ]
  },
  {
   "cell_type": "code",
   "execution_count": null,
   "metadata": {},
   "outputs": [],
   "source": []
  }
 ],
 "metadata": {
  "kernelspec": {
   "display_name": "Python 3",
   "language": "python",
   "name": "python3"
  },
  "language_info": {
   "codemirror_mode": {
    "name": "ipython",
    "version": 3
   },
   "file_extension": ".py",
   "mimetype": "text/x-python",
   "name": "python",
   "nbconvert_exporter": "python",
   "pygments_lexer": "ipython3",
   "version": "3.6.4"
  }
 },
 "nbformat": 4,
 "nbformat_minor": 2
}
